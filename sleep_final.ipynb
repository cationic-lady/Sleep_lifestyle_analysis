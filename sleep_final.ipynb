{
 "cells": [
  {
   "cell_type": "markdown",
   "metadata": {},
   "source": [
    "For this model to predict the presence or absence of any sleep disorder, the following details are needed:\n",
    "\n",
    "* Gender - Male/Female\n",
    "* Age \t\n",
    "* Occupation \n",
    "* sleep duration - in hours \n",
    "* sleep quality - an integer ranged from 1 to 10\t\n",
    "* physical activity level - in min/day\t\n",
    "* stress level - an integer ranged from 1 to 10\t\n",
    "* BMI category - Normal/Obese/Overweight \t\n",
    "* BP - a string in the form of 'Upper/Lower' or systolic pressure over diastolic pressure\n",
    "* heart rate - in bpm\t\n",
    "* daily steps \n",
    "\n",
    "\n",
    "Some limilations of this model:\n",
    "* The model is not trained for people with underwight BMI because of non-data availability.\n",
    "* The model was mainly trained on people with high and normal BP range.\n",
    "* Although the data was unbalanced with most people without any sleep disorders (219 out of 374 to be exact), the model accurately predicts the presence of any sleep disorder in the individual.\n",
    "    * It is to be noted, though, that the model might still misjudge the exact disorder - Sleep Apnea or Insomnia. \n",
    "    * This can be improved with more data or by increasing/obtaining some other features that particularly impact their diagnosis.\n",
    "    * Also, sources suggest there is a little confusion in diagnosis of these disorders irrespective of the involvement of machine learning approaches. \n"
   ]
  },
  {
   "cell_type": "code",
   "execution_count": 1,
   "metadata": {},
   "outputs": [],
   "source": [
    "pred_data_1 = [1,'Male',28,'Sales rep',5.9,4,30,8,'Obese','140/90',85,3000]\n",
    "pred_data_2 = [2,'Male',28,'Doctor',6.2,6,60,8,'Normal','125/80',75,10000]"
   ]
  },
  {
   "cell_type": "code",
   "execution_count": 2,
   "metadata": {},
   "outputs": [
    {
     "data": {
      "text/plain": [
       "array(['Insomnia', 'No disorder'], dtype=object)"
      ]
     },
     "execution_count": 2,
     "metadata": {},
     "output_type": "execute_result"
    }
   ],
   "source": [
    "import joblib\n",
    "import pandas as pd\n",
    "import numpy as np\n",
    "\n",
    "# loading our original set of columns as well as scaled+OHE columns needed for the model \n",
    "original_cols_lst = joblib.load('original_col_names.pkl')\n",
    "scaled_cols = joblib.load('scaled_col_names.pkl')\n",
    "\n",
    "# make a list of the input data \n",
    "data_lst = [pred_data_1,pred_data_2]\n",
    "data_df = pd.DataFrame(data=data_lst,columns=original_cols_lst)\n",
    "\n",
    "# make changes to the blood pressure column to determine bp categories \n",
    "# although, we need to keep in mind that this model has been trained on people with high and normal bp\n",
    "\n",
    "data_df[['upper','lower']] = data_df['Blood Pressure'].str.split('/',expand=True)\n",
    "data_df[['upper','lower']] = data_df[['upper','lower']].astype(int)\n",
    "\n",
    "def bld_press(upp,low):\n",
    "    if ((upp < 90) & (low < 60)):\n",
    "        return 'Low'\n",
    "    elif ((upp < 120) & (low < 80)):\n",
    "        return 'Normal'\n",
    "    elif ((120 <= upp < 130) & (low < 80)):\n",
    "        return 'Elevated'\n",
    "    elif ((upp >= 130) or (low >= 80)):\n",
    "        return 'High'\n",
    "    \n",
    "data_df['BP Category'] = np.vectorize(bld_press)(data_df['upper'],data_df['lower'])\n",
    "\n",
    "# removing columns we don't need \n",
    "data_df_rev = data_df.drop(['Person ID','Occupation','Blood Pressure', 'upper', 'lower'],axis=1)\n",
    "\n",
    "# loading our model now and finally, predicting\n",
    "\n",
    "new_cols = joblib.load('scaled_col_names.pkl')\n",
    "loaded_model = joblib.load('final_clf_model.pkl')\n",
    "\n",
    "loaded_model.predict(data_df_rev)"
   ]
  },
  {
   "cell_type": "code",
   "execution_count": null,
   "metadata": {},
   "outputs": [],
   "source": []
  }
 ],
 "metadata": {
  "kernelspec": {
   "display_name": "Python 3",
   "language": "python",
   "name": "python3"
  },
  "language_info": {
   "codemirror_mode": {
    "name": "ipython",
    "version": 3
   },
   "file_extension": ".py",
   "mimetype": "text/x-python",
   "name": "python",
   "nbconvert_exporter": "python",
   "pygments_lexer": "ipython3",
   "version": "3.11.1"
  }
 },
 "nbformat": 4,
 "nbformat_minor": 2
}
